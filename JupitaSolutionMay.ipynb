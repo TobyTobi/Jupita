{
 "cells": [
  {
   "cell_type": "markdown",
   "id": "b533db6d",
   "metadata": {},
   "source": [
    "# JUPITA ACADEMY ASSIGNMENT SOLUTION"
   ]
  },
  {
   "cell_type": "markdown",
   "id": "345e1e97",
   "metadata": {},
   "source": [
    "## PART 1: LOADING IN THE DATA"
   ]
  },
  {
   "cell_type": "code",
   "execution_count": 1,
   "id": "9550de9a",
   "metadata": {},
   "outputs": [
    {
     "name": "stderr",
     "output_type": "stream",
     "text": [
      "C:\\Users\\USER\\anaconda3\\lib\\site-packages\\numpy\\_distributor_init.py:30: UserWarning: loaded more than 1 DLL from .libs:\n",
      "C:\\Users\\USER\\anaconda3\\lib\\site-packages\\numpy\\.libs\\libopenblas.EL2C6PLE4ZYW3ECEVIV3OXXGRN2NRFM2.gfortran-win_amd64.dll\n",
      "C:\\Users\\USER\\anaconda3\\lib\\site-packages\\numpy\\.libs\\libopenblas.WCDJNK7YVMPZQ2ME2ZZHJJRJ3JIKNDB7.gfortran-win_amd64.dll\n",
      "  warnings.warn(\"loaded more than 1 DLL from .libs:\"\n"
     ]
    }
   ],
   "source": [
    "# Import the necessary libraries\n",
    "import pandas as pd\n",
    "import numpy as np\n",
    "import matplotlib.pyplot as plt\n",
    "\n",
    "%matplotlib inline"
   ]
  },
  {
   "cell_type": "code",
   "execution_count": 2,
   "id": "df059987",
   "metadata": {},
   "outputs": [],
   "source": [
    "# Load in the dataset\n",
    "df = pd.read_csv(r\"C:\\Users\\USER\\Desktop\\jupita\\Assignments\\Datasets\\food_order.csv\")"
   ]
  },
  {
   "cell_type": "markdown",
   "id": "4133b6e1",
   "metadata": {},
   "source": [
    "## PART 2: EXPLORE THE DATAFRAME"
   ]
  },
  {
   "cell_type": "code",
   "execution_count": 4,
   "id": "e5514e2f",
   "metadata": {},
   "outputs": [
    {
     "data": {
      "text/html": [
       "<div>\n",
       "<style scoped>\n",
       "    .dataframe tbody tr th:only-of-type {\n",
       "        vertical-align: middle;\n",
       "    }\n",
       "\n",
       "    .dataframe tbody tr th {\n",
       "        vertical-align: top;\n",
       "    }\n",
       "\n",
       "    .dataframe thead th {\n",
       "        text-align: right;\n",
       "    }\n",
       "</style>\n",
       "<table border=\"1\" class=\"dataframe\">\n",
       "  <thead>\n",
       "    <tr style=\"text-align: right;\">\n",
       "      <th></th>\n",
       "      <th>order_id</th>\n",
       "      <th>customer_id</th>\n",
       "      <th>restaurant_name</th>\n",
       "      <th>cuisine_type</th>\n",
       "      <th>cost_of_the_order</th>\n",
       "      <th>day_of_the_week</th>\n",
       "      <th>rating</th>\n",
       "      <th>food_preparation_time</th>\n",
       "      <th>delivery_time</th>\n",
       "    </tr>\n",
       "  </thead>\n",
       "  <tbody>\n",
       "    <tr>\n",
       "      <th>0</th>\n",
       "      <td>1477147</td>\n",
       "      <td>337525</td>\n",
       "      <td>Hangawi</td>\n",
       "      <td>Korean</td>\n",
       "      <td>30.75</td>\n",
       "      <td>Weekend</td>\n",
       "      <td>Not given</td>\n",
       "      <td>25</td>\n",
       "      <td>20</td>\n",
       "    </tr>\n",
       "    <tr>\n",
       "      <th>1</th>\n",
       "      <td>1477685</td>\n",
       "      <td>358141</td>\n",
       "      <td>Blue Ribbon Sushi Izakaya</td>\n",
       "      <td>Japanese</td>\n",
       "      <td>12.08</td>\n",
       "      <td>Weekend</td>\n",
       "      <td>Not given</td>\n",
       "      <td>25</td>\n",
       "      <td>23</td>\n",
       "    </tr>\n",
       "    <tr>\n",
       "      <th>2</th>\n",
       "      <td>1477070</td>\n",
       "      <td>66393</td>\n",
       "      <td>Cafe Habana</td>\n",
       "      <td>Mexican</td>\n",
       "      <td>12.23</td>\n",
       "      <td>Weekday</td>\n",
       "      <td>5</td>\n",
       "      <td>23</td>\n",
       "      <td>28</td>\n",
       "    </tr>\n",
       "    <tr>\n",
       "      <th>3</th>\n",
       "      <td>1477334</td>\n",
       "      <td>106968</td>\n",
       "      <td>Blue Ribbon Fried Chicken</td>\n",
       "      <td>American</td>\n",
       "      <td>29.20</td>\n",
       "      <td>Weekend</td>\n",
       "      <td>3</td>\n",
       "      <td>25</td>\n",
       "      <td>15</td>\n",
       "    </tr>\n",
       "    <tr>\n",
       "      <th>4</th>\n",
       "      <td>1478249</td>\n",
       "      <td>76942</td>\n",
       "      <td>Dirty Bird to Go</td>\n",
       "      <td>American</td>\n",
       "      <td>11.59</td>\n",
       "      <td>Weekday</td>\n",
       "      <td>4</td>\n",
       "      <td>25</td>\n",
       "      <td>24</td>\n",
       "    </tr>\n",
       "    <tr>\n",
       "      <th>5</th>\n",
       "      <td>1477224</td>\n",
       "      <td>147468</td>\n",
       "      <td>Tamarind TriBeCa</td>\n",
       "      <td>Indian</td>\n",
       "      <td>25.22</td>\n",
       "      <td>Weekday</td>\n",
       "      <td>3</td>\n",
       "      <td>20</td>\n",
       "      <td>24</td>\n",
       "    </tr>\n",
       "    <tr>\n",
       "      <th>6</th>\n",
       "      <td>1477894</td>\n",
       "      <td>157711</td>\n",
       "      <td>The Meatball Shop</td>\n",
       "      <td>Italian</td>\n",
       "      <td>6.07</td>\n",
       "      <td>Weekend</td>\n",
       "      <td>Not given</td>\n",
       "      <td>28</td>\n",
       "      <td>21</td>\n",
       "    </tr>\n",
       "    <tr>\n",
       "      <th>7</th>\n",
       "      <td>1477859</td>\n",
       "      <td>89574</td>\n",
       "      <td>Barbounia</td>\n",
       "      <td>Mediterranean</td>\n",
       "      <td>5.97</td>\n",
       "      <td>Weekday</td>\n",
       "      <td>3</td>\n",
       "      <td>33</td>\n",
       "      <td>30</td>\n",
       "    </tr>\n",
       "    <tr>\n",
       "      <th>8</th>\n",
       "      <td>1477174</td>\n",
       "      <td>121706</td>\n",
       "      <td>Anjappar Chettinad</td>\n",
       "      <td>Indian</td>\n",
       "      <td>16.44</td>\n",
       "      <td>Weekday</td>\n",
       "      <td>5</td>\n",
       "      <td>21</td>\n",
       "      <td>26</td>\n",
       "    </tr>\n",
       "    <tr>\n",
       "      <th>9</th>\n",
       "      <td>1477311</td>\n",
       "      <td>39705</td>\n",
       "      <td>Bukhara Grill</td>\n",
       "      <td>Indian</td>\n",
       "      <td>7.18</td>\n",
       "      <td>Weekday</td>\n",
       "      <td>5</td>\n",
       "      <td>29</td>\n",
       "      <td>26</td>\n",
       "    </tr>\n",
       "    <tr>\n",
       "      <th>10</th>\n",
       "      <td>1477895</td>\n",
       "      <td>143926</td>\n",
       "      <td>Big Wong Restaurant _¤¾Ñ¼</td>\n",
       "      <td>Chinese</td>\n",
       "      <td>5.92</td>\n",
       "      <td>Weekday</td>\n",
       "      <td>Not given</td>\n",
       "      <td>34</td>\n",
       "      <td>28</td>\n",
       "    </tr>\n",
       "    <tr>\n",
       "      <th>11</th>\n",
       "      <td>1478437</td>\n",
       "      <td>221206</td>\n",
       "      <td>Empanada Mama (closed)</td>\n",
       "      <td>Mexican</td>\n",
       "      <td>8.10</td>\n",
       "      <td>Weekend</td>\n",
       "      <td>5</td>\n",
       "      <td>23</td>\n",
       "      <td>22</td>\n",
       "    </tr>\n",
       "    <tr>\n",
       "      <th>12</th>\n",
       "      <td>1476966</td>\n",
       "      <td>129969</td>\n",
       "      <td>Blue Ribbon Fried Chicken</td>\n",
       "      <td>American</td>\n",
       "      <td>24.30</td>\n",
       "      <td>Weekend</td>\n",
       "      <td>5</td>\n",
       "      <td>23</td>\n",
       "      <td>17</td>\n",
       "    </tr>\n",
       "    <tr>\n",
       "      <th>13</th>\n",
       "      <td>1477449</td>\n",
       "      <td>104548</td>\n",
       "      <td>Pylos</td>\n",
       "      <td>Mediterranean</td>\n",
       "      <td>11.30</td>\n",
       "      <td>Weekend</td>\n",
       "      <td>3</td>\n",
       "      <td>24</td>\n",
       "      <td>23</td>\n",
       "    </tr>\n",
       "    <tr>\n",
       "      <th>14</th>\n",
       "      <td>1478198</td>\n",
       "      <td>62667</td>\n",
       "      <td>Lucky's Famous Burgers</td>\n",
       "      <td>American</td>\n",
       "      <td>12.13</td>\n",
       "      <td>Weekday</td>\n",
       "      <td>Not given</td>\n",
       "      <td>23</td>\n",
       "      <td>30</td>\n",
       "    </tr>\n",
       "    <tr>\n",
       "      <th>15</th>\n",
       "      <td>1477414</td>\n",
       "      <td>66222</td>\n",
       "      <td>Shake Shack</td>\n",
       "      <td>American</td>\n",
       "      <td>16.20</td>\n",
       "      <td>Weekend</td>\n",
       "      <td>5</td>\n",
       "      <td>33</td>\n",
       "      <td>25</td>\n",
       "    </tr>\n",
       "    <tr>\n",
       "      <th>16</th>\n",
       "      <td>1477486</td>\n",
       "      <td>104555</td>\n",
       "      <td>Sushi of Gari</td>\n",
       "      <td>Japanese</td>\n",
       "      <td>16.98</td>\n",
       "      <td>Weekend</td>\n",
       "      <td>Not given</td>\n",
       "      <td>30</td>\n",
       "      <td>16</td>\n",
       "    </tr>\n",
       "    <tr>\n",
       "      <th>17</th>\n",
       "      <td>1477373</td>\n",
       "      <td>139885</td>\n",
       "      <td>Blue Ribbon Sushi Izakaya</td>\n",
       "      <td>Japanese</td>\n",
       "      <td>33.03</td>\n",
       "      <td>Weekend</td>\n",
       "      <td>Not given</td>\n",
       "      <td>21</td>\n",
       "      <td>22</td>\n",
       "    </tr>\n",
       "    <tr>\n",
       "      <th>18</th>\n",
       "      <td>1477138</td>\n",
       "      <td>47280</td>\n",
       "      <td>RedFarm Hudson</td>\n",
       "      <td>Chinese</td>\n",
       "      <td>14.12</td>\n",
       "      <td>Weekend</td>\n",
       "      <td>4</td>\n",
       "      <td>25</td>\n",
       "      <td>24</td>\n",
       "    </tr>\n",
       "    <tr>\n",
       "      <th>19</th>\n",
       "      <td>1477354</td>\n",
       "      <td>67487</td>\n",
       "      <td>Blue Ribbon Sushi</td>\n",
       "      <td>Japanese</td>\n",
       "      <td>16.20</td>\n",
       "      <td>Weekend</td>\n",
       "      <td>4</td>\n",
       "      <td>35</td>\n",
       "      <td>26</td>\n",
       "    </tr>\n",
       "  </tbody>\n",
       "</table>\n",
       "</div>"
      ],
      "text/plain": [
       "    order_id  customer_id             restaurant_name   cuisine_type  \\\n",
       "0    1477147       337525                     Hangawi         Korean   \n",
       "1    1477685       358141   Blue Ribbon Sushi Izakaya       Japanese   \n",
       "2    1477070        66393                 Cafe Habana        Mexican   \n",
       "3    1477334       106968   Blue Ribbon Fried Chicken       American   \n",
       "4    1478249        76942            Dirty Bird to Go       American   \n",
       "5    1477224       147468            Tamarind TriBeCa         Indian   \n",
       "6    1477894       157711           The Meatball Shop        Italian   \n",
       "7    1477859        89574                   Barbounia  Mediterranean   \n",
       "8    1477174       121706          Anjappar Chettinad         Indian   \n",
       "9    1477311        39705               Bukhara Grill         Indian   \n",
       "10   1477895       143926  Big Wong Restaurant _¤¾Ñ¼        Chinese   \n",
       "11   1478437       221206      Empanada Mama (closed)        Mexican   \n",
       "12   1476966       129969   Blue Ribbon Fried Chicken       American   \n",
       "13   1477449       104548                       Pylos  Mediterranean   \n",
       "14   1478198        62667      Lucky's Famous Burgers       American   \n",
       "15   1477414        66222                 Shake Shack       American   \n",
       "16   1477486       104555               Sushi of Gari       Japanese   \n",
       "17   1477373       139885   Blue Ribbon Sushi Izakaya       Japanese   \n",
       "18   1477138        47280              RedFarm Hudson        Chinese   \n",
       "19   1477354        67487           Blue Ribbon Sushi       Japanese   \n",
       "\n",
       "    cost_of_the_order day_of_the_week     rating  food_preparation_time  \\\n",
       "0               30.75         Weekend  Not given                     25   \n",
       "1               12.08         Weekend  Not given                     25   \n",
       "2               12.23         Weekday          5                     23   \n",
       "3               29.20         Weekend          3                     25   \n",
       "4               11.59         Weekday          4                     25   \n",
       "5               25.22         Weekday          3                     20   \n",
       "6                6.07         Weekend  Not given                     28   \n",
       "7                5.97         Weekday          3                     33   \n",
       "8               16.44         Weekday          5                     21   \n",
       "9                7.18         Weekday          5                     29   \n",
       "10               5.92         Weekday  Not given                     34   \n",
       "11               8.10         Weekend          5                     23   \n",
       "12              24.30         Weekend          5                     23   \n",
       "13              11.30         Weekend          3                     24   \n",
       "14              12.13         Weekday  Not given                     23   \n",
       "15              16.20         Weekend          5                     33   \n",
       "16              16.98         Weekend  Not given                     30   \n",
       "17              33.03         Weekend  Not given                     21   \n",
       "18              14.12         Weekend          4                     25   \n",
       "19              16.20         Weekend          4                     35   \n",
       "\n",
       "    delivery_time  \n",
       "0              20  \n",
       "1              23  \n",
       "2              28  \n",
       "3              15  \n",
       "4              24  \n",
       "5              24  \n",
       "6              21  \n",
       "7              30  \n",
       "8              26  \n",
       "9              26  \n",
       "10             28  \n",
       "11             22  \n",
       "12             17  \n",
       "13             23  \n",
       "14             30  \n",
       "15             25  \n",
       "16             16  \n",
       "17             22  \n",
       "18             24  \n",
       "19             26  "
      ]
     },
     "execution_count": 4,
     "metadata": {},
     "output_type": "execute_result"
    }
   ],
   "source": [
    "# Take a look at the first few rows in the dataframe\n",
    "df.head(20)"
   ]
  },
  {
   "cell_type": "code",
   "execution_count": 5,
   "id": "b9eb57af",
   "metadata": {},
   "outputs": [
    {
     "data": {
      "text/html": [
       "<div>\n",
       "<style scoped>\n",
       "    .dataframe tbody tr th:only-of-type {\n",
       "        vertical-align: middle;\n",
       "    }\n",
       "\n",
       "    .dataframe tbody tr th {\n",
       "        vertical-align: top;\n",
       "    }\n",
       "\n",
       "    .dataframe thead th {\n",
       "        text-align: right;\n",
       "    }\n",
       "</style>\n",
       "<table border=\"1\" class=\"dataframe\">\n",
       "  <thead>\n",
       "    <tr style=\"text-align: right;\">\n",
       "      <th></th>\n",
       "      <th>order_id</th>\n",
       "      <th>customer_id</th>\n",
       "      <th>restaurant_name</th>\n",
       "      <th>cuisine_type</th>\n",
       "      <th>cost_of_the_order</th>\n",
       "      <th>day_of_the_week</th>\n",
       "      <th>rating</th>\n",
       "      <th>food_preparation_time</th>\n",
       "      <th>delivery_time</th>\n",
       "    </tr>\n",
       "  </thead>\n",
       "  <tbody>\n",
       "    <tr>\n",
       "      <th>1893</th>\n",
       "      <td>1476701</td>\n",
       "      <td>292602</td>\n",
       "      <td>Chipotle Mexican Grill $1.99 Delivery</td>\n",
       "      <td>Mexican</td>\n",
       "      <td>22.31</td>\n",
       "      <td>Weekend</td>\n",
       "      <td>5</td>\n",
       "      <td>31</td>\n",
       "      <td>17</td>\n",
       "    </tr>\n",
       "    <tr>\n",
       "      <th>1894</th>\n",
       "      <td>1477421</td>\n",
       "      <td>397537</td>\n",
       "      <td>The Smile</td>\n",
       "      <td>American</td>\n",
       "      <td>12.18</td>\n",
       "      <td>Weekend</td>\n",
       "      <td>5</td>\n",
       "      <td>31</td>\n",
       "      <td>19</td>\n",
       "    </tr>\n",
       "    <tr>\n",
       "      <th>1895</th>\n",
       "      <td>1477819</td>\n",
       "      <td>35309</td>\n",
       "      <td>Blue Ribbon Sushi</td>\n",
       "      <td>Japanese</td>\n",
       "      <td>25.22</td>\n",
       "      <td>Weekday</td>\n",
       "      <td>Not given</td>\n",
       "      <td>31</td>\n",
       "      <td>24</td>\n",
       "    </tr>\n",
       "    <tr>\n",
       "      <th>1896</th>\n",
       "      <td>1477513</td>\n",
       "      <td>64151</td>\n",
       "      <td>Jack's Wife Freda</td>\n",
       "      <td>Mediterranean</td>\n",
       "      <td>12.18</td>\n",
       "      <td>Weekday</td>\n",
       "      <td>5</td>\n",
       "      <td>23</td>\n",
       "      <td>31</td>\n",
       "    </tr>\n",
       "    <tr>\n",
       "      <th>1897</th>\n",
       "      <td>1478056</td>\n",
       "      <td>120353</td>\n",
       "      <td>Blue Ribbon Sushi</td>\n",
       "      <td>Japanese</td>\n",
       "      <td>19.45</td>\n",
       "      <td>Weekend</td>\n",
       "      <td>Not given</td>\n",
       "      <td>28</td>\n",
       "      <td>24</td>\n",
       "    </tr>\n",
       "  </tbody>\n",
       "</table>\n",
       "</div>"
      ],
      "text/plain": [
       "      order_id  customer_id                        restaurant_name  \\\n",
       "1893   1476701       292602  Chipotle Mexican Grill $1.99 Delivery   \n",
       "1894   1477421       397537                              The Smile   \n",
       "1895   1477819        35309                      Blue Ribbon Sushi   \n",
       "1896   1477513        64151                      Jack's Wife Freda   \n",
       "1897   1478056       120353                      Blue Ribbon Sushi   \n",
       "\n",
       "       cuisine_type  cost_of_the_order day_of_the_week     rating  \\\n",
       "1893        Mexican              22.31         Weekend          5   \n",
       "1894       American              12.18         Weekend          5   \n",
       "1895       Japanese              25.22         Weekday  Not given   \n",
       "1896  Mediterranean              12.18         Weekday          5   \n",
       "1897       Japanese              19.45         Weekend  Not given   \n",
       "\n",
       "      food_preparation_time  delivery_time  \n",
       "1893                     31             17  \n",
       "1894                     31             19  \n",
       "1895                     31             24  \n",
       "1896                     23             31  \n",
       "1897                     28             24  "
      ]
     },
     "execution_count": 5,
     "metadata": {},
     "output_type": "execute_result"
    }
   ],
   "source": [
    "# Take a look at the last few rows in the dataframe\n",
    "df.tail()"
   ]
  },
  {
   "cell_type": "code",
   "execution_count": 6,
   "id": "0225bed1",
   "metadata": {},
   "outputs": [
    {
     "data": {
      "text/plain": [
       "Index(['order_id', 'customer_id', 'restaurant_name', 'cuisine_type',\n",
       "       'cost_of_the_order', 'day_of_the_week', 'rating',\n",
       "       'food_preparation_time', 'delivery_time'],\n",
       "      dtype='object')"
      ]
     },
     "execution_count": 6,
     "metadata": {},
     "output_type": "execute_result"
    }
   ],
   "source": [
    "# Take a look at the column names\n",
    "df.columns"
   ]
  },
  {
   "cell_type": "code",
   "execution_count": 7,
   "id": "e723cac7",
   "metadata": {},
   "outputs": [
    {
     "name": "stdout",
     "output_type": "stream",
     "text": [
      "<class 'pandas.core.frame.DataFrame'>\n",
      "RangeIndex: 1898 entries, 0 to 1897\n",
      "Data columns (total 9 columns):\n",
      " #   Column                 Non-Null Count  Dtype  \n",
      "---  ------                 --------------  -----  \n",
      " 0   order_id               1898 non-null   int64  \n",
      " 1   customer_id            1898 non-null   int64  \n",
      " 2   restaurant_name        1898 non-null   object \n",
      " 3   cuisine_type           1898 non-null   object \n",
      " 4   cost_of_the_order      1898 non-null   float64\n",
      " 5   day_of_the_week        1898 non-null   object \n",
      " 6   rating                 1898 non-null   object \n",
      " 7   food_preparation_time  1898 non-null   int64  \n",
      " 8   delivery_time          1898 non-null   int64  \n",
      "dtypes: float64(1), int64(4), object(4)\n",
      "memory usage: 133.6+ KB\n"
     ]
    }
   ],
   "source": [
    "# Assess the dataframe\n",
    "df.info()"
   ]
  },
  {
   "cell_type": "markdown",
   "id": "a995b59f",
   "metadata": {},
   "source": [
    "1. There are no missing values in the dataframe\n",
    "2. The rating column is not in the right datatype"
   ]
  },
  {
   "cell_type": "code",
   "execution_count": 8,
   "id": "f6094417",
   "metadata": {},
   "outputs": [
    {
     "data": {
      "text/html": [
       "<div>\n",
       "<style scoped>\n",
       "    .dataframe tbody tr th:only-of-type {\n",
       "        vertical-align: middle;\n",
       "    }\n",
       "\n",
       "    .dataframe tbody tr th {\n",
       "        vertical-align: top;\n",
       "    }\n",
       "\n",
       "    .dataframe thead th {\n",
       "        text-align: right;\n",
       "    }\n",
       "</style>\n",
       "<table border=\"1\" class=\"dataframe\">\n",
       "  <thead>\n",
       "    <tr style=\"text-align: right;\">\n",
       "      <th></th>\n",
       "      <th>order_id</th>\n",
       "      <th>customer_id</th>\n",
       "      <th>restaurant_name</th>\n",
       "      <th>cuisine_type</th>\n",
       "      <th>cost_of_the_order</th>\n",
       "      <th>day_of_the_week</th>\n",
       "      <th>rating</th>\n",
       "      <th>food_preparation_time</th>\n",
       "      <th>delivery_time</th>\n",
       "    </tr>\n",
       "  </thead>\n",
       "  <tbody>\n",
       "  </tbody>\n",
       "</table>\n",
       "</div>"
      ],
      "text/plain": [
       "Empty DataFrame\n",
       "Columns: [order_id, customer_id, restaurant_name, cuisine_type, cost_of_the_order, day_of_the_week, rating, food_preparation_time, delivery_time]\n",
       "Index: []"
      ]
     },
     "execution_count": 8,
     "metadata": {},
     "output_type": "execute_result"
    }
   ],
   "source": [
    "# Check if there are any rows that are duplicates\n",
    "df[df.duplicated()]\n",
    "\n",
    "# If a row is a duplicate of another row, show me the row!"
   ]
  },
  {
   "cell_type": "markdown",
   "id": "5f2601ec",
   "metadata": {},
   "source": [
    "Since the dataframe is empty, it implies that there are no duplicate rows in the dataframe "
   ]
  },
  {
   "cell_type": "code",
   "execution_count": 9,
   "id": "1e178b0c",
   "metadata": {},
   "outputs": [
    {
     "data": {
      "text/plain": [
       "order_id                 0\n",
       "customer_id              0\n",
       "restaurant_name          0\n",
       "cuisine_type             0\n",
       "cost_of_the_order        0\n",
       "day_of_the_week          0\n",
       "rating                   0\n",
       "food_preparation_time    0\n",
       "delivery_time            0\n",
       "dtype: int64"
      ]
     },
     "execution_count": 9,
     "metadata": {},
     "output_type": "execute_result"
    }
   ],
   "source": [
    "# See the number of rows that have missing values for each column\n",
    "df.isnull().sum()"
   ]
  },
  {
   "cell_type": "code",
   "execution_count": 10,
   "id": "ea1adc95",
   "metadata": {},
   "outputs": [
    {
     "data": {
      "text/html": [
       "<div>\n",
       "<style scoped>\n",
       "    .dataframe tbody tr th:only-of-type {\n",
       "        vertical-align: middle;\n",
       "    }\n",
       "\n",
       "    .dataframe tbody tr th {\n",
       "        vertical-align: top;\n",
       "    }\n",
       "\n",
       "    .dataframe thead th {\n",
       "        text-align: right;\n",
       "    }\n",
       "</style>\n",
       "<table border=\"1\" class=\"dataframe\">\n",
       "  <thead>\n",
       "    <tr style=\"text-align: right;\">\n",
       "      <th></th>\n",
       "      <th>order_id</th>\n",
       "      <th>customer_id</th>\n",
       "      <th>cost_of_the_order</th>\n",
       "      <th>food_preparation_time</th>\n",
       "      <th>delivery_time</th>\n",
       "    </tr>\n",
       "  </thead>\n",
       "  <tbody>\n",
       "    <tr>\n",
       "      <th>count</th>\n",
       "      <td>1.898000e+03</td>\n",
       "      <td>1898.000000</td>\n",
       "      <td>1898.000000</td>\n",
       "      <td>1898.000000</td>\n",
       "      <td>1898.000000</td>\n",
       "    </tr>\n",
       "    <tr>\n",
       "      <th>mean</th>\n",
       "      <td>1.477496e+06</td>\n",
       "      <td>171168.478398</td>\n",
       "      <td>16.498851</td>\n",
       "      <td>27.371970</td>\n",
       "      <td>24.161749</td>\n",
       "    </tr>\n",
       "    <tr>\n",
       "      <th>std</th>\n",
       "      <td>5.480497e+02</td>\n",
       "      <td>113698.139743</td>\n",
       "      <td>7.483812</td>\n",
       "      <td>4.632481</td>\n",
       "      <td>4.972637</td>\n",
       "    </tr>\n",
       "    <tr>\n",
       "      <th>min</th>\n",
       "      <td>1.476547e+06</td>\n",
       "      <td>1311.000000</td>\n",
       "      <td>4.470000</td>\n",
       "      <td>20.000000</td>\n",
       "      <td>15.000000</td>\n",
       "    </tr>\n",
       "    <tr>\n",
       "      <th>25%</th>\n",
       "      <td>1.477021e+06</td>\n",
       "      <td>77787.750000</td>\n",
       "      <td>12.080000</td>\n",
       "      <td>23.000000</td>\n",
       "      <td>20.000000</td>\n",
       "    </tr>\n",
       "    <tr>\n",
       "      <th>50%</th>\n",
       "      <td>1.477496e+06</td>\n",
       "      <td>128600.000000</td>\n",
       "      <td>14.140000</td>\n",
       "      <td>27.000000</td>\n",
       "      <td>25.000000</td>\n",
       "    </tr>\n",
       "    <tr>\n",
       "      <th>75%</th>\n",
       "      <td>1.477970e+06</td>\n",
       "      <td>270525.000000</td>\n",
       "      <td>22.297500</td>\n",
       "      <td>31.000000</td>\n",
       "      <td>28.000000</td>\n",
       "    </tr>\n",
       "    <tr>\n",
       "      <th>max</th>\n",
       "      <td>1.478444e+06</td>\n",
       "      <td>405334.000000</td>\n",
       "      <td>35.410000</td>\n",
       "      <td>35.000000</td>\n",
       "      <td>33.000000</td>\n",
       "    </tr>\n",
       "  </tbody>\n",
       "</table>\n",
       "</div>"
      ],
      "text/plain": [
       "           order_id    customer_id  cost_of_the_order  food_preparation_time  \\\n",
       "count  1.898000e+03    1898.000000        1898.000000            1898.000000   \n",
       "mean   1.477496e+06  171168.478398          16.498851              27.371970   \n",
       "std    5.480497e+02  113698.139743           7.483812               4.632481   \n",
       "min    1.476547e+06    1311.000000           4.470000              20.000000   \n",
       "25%    1.477021e+06   77787.750000          12.080000              23.000000   \n",
       "50%    1.477496e+06  128600.000000          14.140000              27.000000   \n",
       "75%    1.477970e+06  270525.000000          22.297500              31.000000   \n",
       "max    1.478444e+06  405334.000000          35.410000              35.000000   \n",
       "\n",
       "       delivery_time  \n",
       "count    1898.000000  \n",
       "mean       24.161749  \n",
       "std         4.972637  \n",
       "min        15.000000  \n",
       "25%        20.000000  \n",
       "50%        25.000000  \n",
       "75%        28.000000  \n",
       "max        33.000000  "
      ]
     },
     "execution_count": 10,
     "metadata": {},
     "output_type": "execute_result"
    }
   ],
   "source": [
    "# Check the summary statistics for columns\n",
    "df.describe()"
   ]
  },
  {
   "cell_type": "markdown",
   "id": "efb4e202",
   "metadata": {},
   "source": [
    "## PART 3: DATA CLEANING"
   ]
  },
  {
   "cell_type": "markdown",
   "id": "65e5810c",
   "metadata": {},
   "source": [
    "The rating column should be a numerical column, so we have to check what is happening."
   ]
  },
  {
   "cell_type": "code",
   "execution_count": 11,
   "id": "6c44ce82",
   "metadata": {},
   "outputs": [
    {
     "data": {
      "text/plain": [
       "array(['Not given', '5', '3', '4'], dtype=object)"
      ]
     },
     "execution_count": 11,
     "metadata": {},
     "output_type": "execute_result"
    }
   ],
   "source": [
    "# Check the unique values in the rating column\n",
    "df['rating'].unique()"
   ]
  },
  {
   "cell_type": "code",
   "execution_count": 12,
   "id": "d91a4441",
   "metadata": {},
   "outputs": [],
   "source": [
    "# Delete the rows that have a rating of 'Not given'\n",
    "df.drop(df.index[df['rating'] == 'Not given'], inplace = True)"
   ]
  },
  {
   "cell_type": "code",
   "execution_count": 13,
   "id": "68d68217",
   "metadata": {},
   "outputs": [
    {
     "data": {
      "text/plain": [
       "array(['5', '3', '4'], dtype=object)"
      ]
     },
     "execution_count": 13,
     "metadata": {},
     "output_type": "execute_result"
    }
   ],
   "source": [
    "# Check for the unique values in rating column\n",
    "df['rating'].unique()"
   ]
  },
  {
   "cell_type": "code",
   "execution_count": 14,
   "id": "85107b10",
   "metadata": {},
   "outputs": [],
   "source": [
    "# Convert rating to int64 datatype\n",
    "df['rating'] = df['rating'].astype('int64')"
   ]
  },
  {
   "cell_type": "code",
   "execution_count": 15,
   "id": "91900d0e",
   "metadata": {},
   "outputs": [
    {
     "data": {
      "text/plain": [
       "array([5, 3, 4], dtype=int64)"
      ]
     },
     "execution_count": 15,
     "metadata": {},
     "output_type": "execute_result"
    }
   ],
   "source": [
    "# Check finally\n",
    "df['rating'].unique()"
   ]
  },
  {
   "cell_type": "markdown",
   "id": "dbeb8f37",
   "metadata": {},
   "source": [
    "The problem with the rating column has been fixed."
   ]
  },
  {
   "cell_type": "markdown",
   "id": "32bfec60",
   "metadata": {},
   "source": [
    "## PART 4: SOLUTION TO THE BUSINESS QUESTIONS"
   ]
  },
  {
   "cell_type": "markdown",
   "id": "00dc0d4d",
   "metadata": {},
   "source": [
    "Question 1: What is the average cost of orders in the dataset?"
   ]
  },
  {
   "cell_type": "code",
   "execution_count": 16,
   "id": "3c42012b",
   "metadata": {},
   "outputs": [
    {
     "data": {
      "text/plain": [
       "16.76076592082618"
      ]
     },
     "execution_count": 16,
     "metadata": {},
     "output_type": "execute_result"
    }
   ],
   "source": [
    "# Use the mean() function to find the average of the cost_of_the_order column\n",
    "df['cost_of_the_order'].mean()"
   ]
  },
  {
   "cell_type": "markdown",
   "id": "c6a0c2ac",
   "metadata": {},
   "source": [
    "Answer: The average cost of orders in the dataset is $16.76"
   ]
  },
  {
   "cell_type": "markdown",
   "id": "f04a8774",
   "metadata": {},
   "source": [
    "Question 2: Which restaurant has the highest average cost per order?"
   ]
  },
  {
   "cell_type": "code",
   "execution_count": 17,
   "id": "556e8e12",
   "metadata": {},
   "outputs": [
    {
     "data": {
      "text/plain": [
       "restaurant_name\n",
       "Kambi Ramen House    32.93\n",
       "Name: cost_of_the_order, dtype: float64"
      ]
     },
     "execution_count": 17,
     "metadata": {},
     "output_type": "execute_result"
    }
   ],
   "source": [
    "# Use groupby() to group the restaurant name column, mean() to find the average cost of orders, sort_values to sort the result\n",
    "highest = df.groupby('restaurant_name')['cost_of_the_order'].mean().sort_values(ascending = False)\n",
    "\n",
    "# Return the top 1\n",
    "highest.head(1)"
   ]
  },
  {
   "cell_type": "markdown",
   "id": "5acc86b2",
   "metadata": {},
   "source": [
    "Answer: The restaurant with the highest average cost per order is Kambi Ramen House with an average of $32.93"
   ]
  },
  {
   "cell_type": "markdown",
   "id": "3e0b414c",
   "metadata": {},
   "source": [
    "Question 3: What is the distribution of cuisine types?"
   ]
  },
  {
   "cell_type": "code",
   "execution_count": 19,
   "id": "01d4efcc",
   "metadata": {},
   "outputs": [
    {
     "data": {
      "image/png": "[encoded data removed]",
      "text/plain": [
       "<Figure size 1440x576 with 1 Axes>"
      ]
     },
     "metadata": {
      "needs_background": "light"
     },
     "output_type": "display_data"
    }
   ],
   "source": [
    "# Create a list of the cuisines\n",
    "cuisine = df['cuisine_type'].unique()\n",
    "\n",
    "# Create a list of the counts of the cuisine type\n",
    "count_cuisine = df['cuisine_type'].value_counts()\n",
    "\n",
    "# Create a bar chart and specify the qualities of the bar chart\n",
    "plt.figure(figsize = (20,8))\n",
    "plt.bar(cuisine, count_cuisine, color = 'green')\n",
    "plt.xlabel('Cuisine')\n",
    "plt.ylabel('Count')\n",
    "plt.title('DISTRIBUTION OF CUISINE TYPES')\n",
    "plt.show()"
   ]
  },
  {
   "cell_type": "markdown",
   "id": "eb538b17",
   "metadata": {},
   "source": [
    "Question 4: Are orders placed more frequently on weekdays or weekends?"
   ]
  },
  {
   "cell_type": "code",
   "execution_count": 20,
   "id": "289d54c1",
   "metadata": {},
   "outputs": [
    {
     "data": {
      "text/plain": [
       "([<matplotlib.patches.Wedge at 0x27d3002caf0>,\n",
       "  <matplotlib.patches.Wedge at 0x27d3003a7f0>],\n",
       " [Text(0.6670786901744936, 0.8746462262624142, 'Weekday'),\n",
       "  Text(-0.6670786901744936, -0.8746462262624142, 'Weekend')],\n",
       " [Text(0.3638611037315419, 0.47707975977949857, '29.3%'),\n",
       "  Text(-0.3638611037315419, -0.47707975977949857, '70.7%')])"
      ]
     },
     "execution_count": 20,
     "metadata": {},
     "output_type": "execute_result"
    },
    {
     "data": {
      "image/png": "[encoded data removed]",
      "text/plain": [
       "<Figure size 432x432 with 1 Axes>"
      ]
     },
     "metadata": {},
     "output_type": "display_data"
    }
   ],
   "source": [
    "# Count the number of orders for the days of the week indicated in the day_of_the_week column\n",
    "Count_day = df['day_of_the_week'].value_counts().sort_values()\n",
    "\n",
    "#Create labels for the pie chart\n",
    "Unique_days = df['day_of_the_week'].unique()\n",
    "\n",
    "# Plot a pie chart to show the information above\n",
    "plt.figure(figsize = (6,6))\n",
    "plt.pie(Count_day, labels = Unique_days, autopct = '%1.1f%%')"
   ]
  },
  {
   "cell_type": "markdown",
   "id": "22e7902b",
   "metadata": {},
   "source": [
    "Answer: Orders are placed more frequently on weekends than on weekdays"
   ]
  },
  {
   "cell_type": "markdown",
   "id": "e3e073cf",
   "metadata": {},
   "source": [
    "Question 5: What restaurants have an average rating equal to 5?"
   ]
  },
  {
   "cell_type": "code",
   "execution_count": 22,
   "id": "06350291",
   "metadata": {},
   "outputs": [
    {
     "name": "stdout",
     "output_type": "stream",
     "text": [
      "restaurant_name\n",
      "'wichcraft                       5.0\n",
      "Ravagh Persian Grill             5.0\n",
      "Chola Eclectic Indian Cuisine    5.0\n",
      "Chote Nawab                      5.0\n",
      "Junoon                           5.0\n",
      "Socarrat Paella Bar              5.0\n",
      "DespaÌ±a                         5.0\n",
      "Dig Inn Seasonal Market          5.0\n",
      "Saravanaa Bhavan                 5.0\n",
      "Donburi-ya                       5.0\n",
      "Dos Caminos                      5.0\n",
      "Dos Caminos Soho                 5.0\n",
      "Samurai Mama                     5.0\n",
      "El Parador Cafe                  5.0\n",
      "Prosperity Dumpling              5.0\n",
      "Carmine's                        5.0\n",
      "Galli Restaurant                 5.0\n",
      "Grand Sichuan International      5.0\n",
      "Philippe Chow                    5.0\n",
      "Olive Garden                     5.0\n",
      "Haru Gramercy Park               5.0\n",
      "Moonstruck on Second             5.0\n",
      "Mission Cantina                  5.0\n",
      "Hot Kitchen                      5.0\n",
      "Hunan Manor                      5.0\n",
      "Lantern Thai Kitchen             5.0\n",
      "Klong                            5.0\n",
      "Kanoyama                         5.0\n",
      "Song Thai Restaurant & Bar       5.0\n",
      "Cipriani Le Specialita           5.0\n",
      "Vanessa's Dumpling House         5.0\n",
      "Tortaria                         5.0\n",
      "da Umberto                       5.0\n",
      "67 Burger                        5.0\n",
      "Yama 49                          5.0\n",
      "Anjappar Chettinad               5.0\n",
      "Asuka Sushi                      5.0\n",
      "Balade                           5.0\n",
      "Xe May Sandwich Shop             5.0\n",
      "Vezzo Thin Crust Pizza           5.0\n",
      "Bhatti Indian Grill              5.0\n",
      "Big Daddy's                      5.0\n",
      "UVA Wine Bar & Restaurant        5.0\n",
      "Kambi Ramen House                5.0\n",
      "Cafe de La Esquina               5.0\n",
      "Taro Sushi                       5.0\n",
      "Bukhara Grill                    5.0\n",
      "Name: rating, dtype: float64\n"
     ]
    }
   ],
   "source": [
    "# Group the restaurants and find the average rating for each restaurant\n",
    "rest_rating = df.groupby('restaurant_name')['rating'].mean().sort_values(ascending = False)\n",
    "\n",
    "# Identify restaurants with an average rating of 5\n",
    "high_rating = rest_rating[rest_rating == 5]\n",
    "\n",
    "# Print out the result\n",
    "print(high_rating)"
   ]
  },
  {
   "cell_type": "markdown",
   "id": "80d36e25",
   "metadata": {},
   "source": [
    "Question 6: What is the average food preparation time for each cuisine type?"
   ]
  },
  {
   "cell_type": "code",
   "execution_count": 23,
   "id": "51f44529",
   "metadata": {},
   "outputs": [
    {
     "data": {
      "image/png": "[encoded data removed]",
      "text/plain": [
       "<Figure size 1440x504 with 1 Axes>"
      ]
     },
     "metadata": {
      "needs_background": "light"
     },
     "output_type": "display_data"
    }
   ],
   "source": [
    "# Calculate the average preparation time for each cuisine\n",
    "prep_time = df.groupby('cuisine_type')['food_preparation_time'].mean().sort_values()\n",
    "\n",
    "# Create a bar chart to visualize this information\n",
    "plt.figure(figsize = (20,7))\n",
    "plt.bar(prep_time.index, prep_time)\n",
    "plt.title('DISTRIBUTION OF PREPARATION TIME ACROSS CUISINES')\n",
    "plt.xlabel('Cuisine')\n",
    "plt.ylabel('Preparation Time')\n",
    "plt.show()"
   ]
  },
  {
   "cell_type": "markdown",
   "id": "8cee2561",
   "metadata": {},
   "source": [
    "Question 7: What is the average delivery time for orders placed on weekends versus weekdays"
   ]
  },
  {
   "cell_type": "code",
   "execution_count": 24,
   "id": "21ddbde0",
   "metadata": {},
   "outputs": [
    {
     "data": {
      "text/plain": [
       "day_of_the_week\n",
       "Weekday    28.305882\n",
       "Weekend    22.436740\n",
       "Name: delivery_time, dtype: float64"
      ]
     },
     "execution_count": 24,
     "metadata": {},
     "output_type": "execute_result"
    }
   ],
   "source": [
    "# Calculate the average delivery time for the days of the week\n",
    "average_deliv_day = df.groupby('day_of_the_week')['delivery_time'].mean()\n",
    "\n",
    "average_deliv_day"
   ]
  },
  {
   "cell_type": "markdown",
   "id": "f1600507",
   "metadata": {},
   "source": [
    "Answer: Orders place on weekdays tend to take about 6 minutes longer to be delivered than orders placed on weekends"
   ]
  },
  {
   "cell_type": "markdown",
   "id": "5ca16c7f",
   "metadata": {},
   "source": [
    "Question 8: How does the delivery time vary for different cuisine types?"
   ]
  },
  {
   "cell_type": "code",
   "execution_count": 26,
   "id": "d11c0fa3",
   "metadata": {},
   "outputs": [
    {
     "data": {
      "text/plain": [
       "cuisine_type\n",
       "Vietnamese        27.200000\n",
       "Italian           25.209302\n",
       "French            25.100000\n",
       "Mexican           24.770833\n",
       "Middle Eastern    24.617647\n",
       "American          24.396739\n",
       "Japanese          23.743590\n",
       "Chinese           23.496241\n",
       "Indian            23.300000\n",
       "Mediterranean     23.187500\n",
       "Thai              23.000000\n",
       "Southern          22.615385\n",
       "Spanish           22.500000\n",
       "Korean            21.111111\n",
       "Name: delivery_time, dtype: float64"
      ]
     },
     "execution_count": 26,
     "metadata": {},
     "output_type": "execute_result"
    }
   ],
   "source": [
    "# Calculate the average delivery time for cuisine types\n",
    "average_deliv_cuisine = df.groupby('cuisine_type')['delivery_time'].mean().sort_values(ascending = False)\n",
    "\n",
    "average_deliv_cuisine"
   ]
  },
  {
   "cell_type": "markdown",
   "id": "f7a33a7d",
   "metadata": {},
   "source": [
    "Question 9: How does the rating vary for different cuisine types?"
   ]
  },
  {
   "cell_type": "code",
   "execution_count": 27,
   "id": "1c5a9d0a",
   "metadata": {},
   "outputs": [
    {
     "data": {
      "text/plain": [
       "cuisine_type\n",
       "Spanish           4.833333\n",
       "Thai              4.666667\n",
       "Indian            4.540000\n",
       "Mexican           4.416667\n",
       "Japanese          4.373626\n",
       "Italian           4.360465\n",
       "Chinese           4.338346\n",
       "Southern          4.307692\n",
       "French            4.300000\n",
       "American          4.298913\n",
       "Middle Eastern    4.235294\n",
       "Mediterranean     4.218750\n",
       "Korean            4.111111\n",
       "Vietnamese        4.000000\n",
       "Name: rating, dtype: float64"
      ]
     },
     "execution_count": 27,
     "metadata": {},
     "output_type": "execute_result"
    }
   ],
   "source": [
    "# Calculate the average rating for cuisine types\n",
    "ratings = df.groupby('cuisine_type')['rating'].mean().sort_values(ascending = False)\n",
    "\n",
    "ratings"
   ]
  }
 ],
 "metadata": {
  "hide_input": false,
  "kernelspec": {
   "display_name": "Python 3 (ipykernel)",
   "language": "python",
   "name": "python3"
  },
  "language_info": {
   "codemirror_mode": {
    "name": "ipython",
    "version": 3
   },
   "file_extension": ".py",
   "mimetype": "text/x-python",
   "name": "python",
   "nbconvert_exporter": "python",
   "pygments_lexer": "ipython3",
   "version": "3.9.12"
  }
 },
 "nbformat": 4,
 "nbformat_minor": 5
}
